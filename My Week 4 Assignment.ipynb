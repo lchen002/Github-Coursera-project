{
    "cells": [
        {
            "cell_type": "markdown",
            "metadata": {
                "collapsed": true
            },
            "source": "# Week 4 Assignment - Where to Open A New Restaurant in Kirkland"
        },
        {
            "cell_type": "markdown",
            "metadata": {},
            "source": "## I. Description of The Problem And Discussion of The Background"
        },
        {
            "cell_type": "markdown",
            "metadata": {},
            "source": "####       Kirkland is a city in western Washington with a population of about 93,000 according to 2019 census report. It is adjacent to Bellevue and Redmond, where many big companies such as Expedia, and Microsoft locate. And is about 20 minutes drive from Seattle downtown. Kirkland has beautiful waterfront areas, numerous parks,  and several art galleries. It has attracted more and more people to move in and live there. According to World Population Review, in the past decade, its population has grown by 88.47% and is continuing to grow at a current rate of 1.32% each year. Hence, there is a growing need for leisure, such as entertainment and dining."
        },
        {
            "cell_type": "markdown",
            "metadata": {},
            "source": "#### This report will use Python segmenting and clustering techniques to fetch venue data from Foursquare to locate an area which will be ideal for someone to open a new restaurant in Kirkland. It will not consider other factors that generally impact such decisions, like cuisine preferences and average spending of targeted customers, rent cost, etc.."
        },
        {
            "cell_type": "markdown",
            "metadata": {},
            "source": "## II. Data Used in The Report"
        },
        {
            "cell_type": "markdown",
            "metadata": {},
            "source": "#### In this report, I will use neighborhood information from kirklandwa.org for clustering and segmentation, and the venue information from Foursquare to analyze each neighborhood to find the ideal area to open this new restaurant. "
        },
        {
            "cell_type": "code",
            "execution_count": null,
            "metadata": {},
            "outputs": [],
            "source": ""
        }
    ],
    "metadata": {
        "kernelspec": {
            "display_name": "Python 3.6",
            "language": "python",
            "name": "python3"
        },
        "language_info": {
            "codemirror_mode": {
                "name": "ipython",
                "version": 3
            },
            "file_extension": ".py",
            "mimetype": "text/x-python",
            "name": "python",
            "nbconvert_exporter": "python",
            "pygments_lexer": "ipython3",
            "version": "3.6.9"
        }
    },
    "nbformat": 4,
    "nbformat_minor": 1
}